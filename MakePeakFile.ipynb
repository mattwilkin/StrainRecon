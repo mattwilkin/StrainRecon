{
 "cells": [
  {
   "cell_type": "code",
   "execution_count": 1,
   "metadata": {},
   "outputs": [],
   "source": [
    "from util.MicFileTool import MicFile\n",
    "import util.Simulation as Gsim\n",
    "import util.RotRep as Rot\n",
    "import numpy as np\n",
    "import matplotlib.pyplot as plt\n",
    "from scipy.interpolate import griddata\n",
    "import h5py\n",
    "from scipy.signal import convolve2d"
   ]
  },
  {
   "cell_type": "code",
   "execution_count": 2,
   "metadata": {},
   "outputs": [],
   "source": [
    "from config import Config\n",
    "Cfg = Config('ConfigFiles/RealG15.yml')"
   ]
  },
  {
   "cell_type": "markdown",
   "metadata": {},
   "source": [
    "# Read Grain Map from the LBFS File"
   ]
  },
  {
   "cell_type": "code",
   "execution_count": 3,
   "metadata": {
    "collapsed": false,
    "jupyter": {
     "outputs_hidden": false
    }
   },
   "outputs": [
    {
     "name": "stdout",
     "output_type": "stream",
     "text": [
      "-0.556875 -0.00974279 0 2 7 1 281.746 88.7135 78.1765 0.145161 0.885753 0.14876 0 1 1 1 0 0 0\n",
      "\n",
      "<class 'str'>\n",
      "sw is 0.72 \n",
      "\n",
      "shape of snp is (32855, 19)\n"
     ]
    }
   ],
   "source": [
    "a=MicFile(\"AuxData/Ti7_WithHRM_2ndLoad_z1_.mic.LBFS\")"
   ]
  },
  {
   "cell_type": "code",
   "execution_count": 4,
   "metadata": {},
   "outputs": [],
   "source": [
    "grid_x,grid_y=np.meshgrid(np.arange(-0.5,0.2,0.002),np.arange(-0.4,0.4,0.002))\n",
    "grid_c = griddata(a.snp[:,0:2],a.snp[:,9],(grid_x,grid_y),method='nearest')\n",
    "grid_e1 = griddata(a.snp[:,0:2],a.snp[:,6],(grid_x,grid_y),method='nearest')\n",
    "grid_e2 = griddata(a.snp[:,0:2],a.snp[:,7],(grid_x,grid_y),method='nearest')\n",
    "grid_e3 = griddata(a.snp[:,0:2],a.snp[:,8],(grid_x,grid_y),method='nearest')"
   ]
  },
  {
   "cell_type": "code",
   "execution_count": 5,
   "metadata": {
    "collapsed": false,
    "jupyter": {
     "outputs_hidden": false
    }
   },
   "outputs": [],
   "source": [
    "GrainDict={}\n",
    "GrainDict[2]=(96.6718, 83.8559, 292.454)\n",
    "GrainDict[8]=(153.18, 83.0631, 205.721)\n",
    "GrainDict[13]=(120.784,   80.9295,  246.202)\n",
    "GrainDict[14]=(307.363,71.8926,74.2928)\n",
    "GrainDict[15]=(298.089, 65.4218, 42.9553)\n",
    "\n",
    "GrainDict[23]=(137.852, 77.3726, 206.271)\n",
    "GrainDict[24]=(341.519, 79.2855, 7.2755)\n",
    "GrainDict[25]=(328.93, 88.8624, 11.7176)\n",
    "\n",
    "GrainDict[45]=(117.498,   86.6945,  214.956)\n",
    "GrainDict[46]=(147.248,   81.8513,  217.515)\n",
    "GrainDict[50]=(331.545, 72.4743, 52.0357)\n",
    "GrainDict[55]=(97.9141, 90.0041, 259.313)"
   ]
  },
  {
   "cell_type": "code",
   "execution_count": 6,
   "metadata": {},
   "outputs": [],
   "source": [
    "GrainIDMap=np.zeros(grid_c.shape,dtype=int)\n",
    "for grainID in GrainDict:\n",
    "    (e1,e2,e3)=GrainDict[grainID]\n",
    "    tmp = grid_c > 0.3\n",
    "    tmp*=np.absolute(grid_e1 - e1)<1\n",
    "    tmp*=np.absolute(grid_e2 - e2)<1\n",
    "    tmp*=np.absolute(grid_e3 - e3)<1\n",
    "    GrainIDMap += grainID * tmp"
   ]
  },
  {
   "cell_type": "code",
   "execution_count": 7,
   "metadata": {
    "collapsed": false,
    "jupyter": {
     "outputs_hidden": false
    }
   },
   "outputs": [
    {
     "data": {
      "image/png": "[encoded data removed]",
      "text/plain": [
       "<Figure size 432x288 with 1 Axes>"
      ]
     },
     "metadata": {
      "needs_background": "light"
     },
     "output_type": "display_data"
    }
   ],
   "source": [
    "plt.imshow(GrainIDMap,origin='lower')\n",
    "plt.show()"
   ]
  },
  {
   "cell_type": "code",
   "execution_count": 8,
   "metadata": {
    "collapsed": false,
    "jupyter": {
     "outputs_hidden": false
    }
   },
   "outputs": [],
   "source": [
    "\n",
    "with h5py.File(Cfg.micFile,'w') as f:\n",
    "    ds=f.create_dataset(\"origin\", data = np.array([-0.5,-0.4]))\n",
    "    ds.attrs[u'units'] = u'mm'\n",
    "    ds=f.create_dataset(\"stepSize\", data = np.array([0.002,0.002]))\n",
    "    ds.attrs[u'units'] = u'mm'\n",
    "    f.create_dataset(\"Xcoordinate\", data = grid_x)\n",
    "    f.create_dataset(\"Ycoordinate\", data = grid_y)\n",
    "    f.create_dataset(\"Confidence\", data = grid_c)\n",
    "    f.create_dataset(\"Ph1\", data = grid_e1)\n",
    "    f.create_dataset(\"Psi\", data = grid_e2)\n",
    "    f.create_dataset(\"Ph2\", data = grid_e3)\n",
    "    f.create_dataset(\"GrainID\", data = GrainIDMap)"
   ]
  },
  {
   "cell_type": "markdown",
   "metadata": {},
   "source": [
    "# Create HDF5 File for the Bragg Peaks of One Grain"
   ]
  },
  {
   "cell_type": "code",
   "execution_count": 9,
   "metadata": {},
   "outputs": [],
   "source": [
    "energy = Cfg.energy\n",
    "etalimit=Cfg.etalimit/180.0*np.pi\n",
    "\n",
    "########################\n",
    "# Detector parameters (after my recalibration of 2nd) \n",
    "########################\n",
    "\n",
    "Det=Gsim.Detector(psizeJ=Cfg.pixelSize/1000.0,psizeK=Cfg.pixelSize/1000.0)\n",
    "Det.Move(Cfg.JCenter,Cfg.KCenter,np.array([Cfg.Ldistance,0,0]),Rot.EulerZXZ2Mat(np.array(Cfg.tilt)/180.0*np.pi))\n",
    "\n",
    "\n",
    "#########################\n",
    "# Default Ti7 LP\n",
    "#########################\n",
    "Ti7=Gsim.CrystalStr()\n",
    "Ti7.PrimA = Cfg.lattice[0] * np.array([1, 0, 0])\n",
    "Ti7.PrimB = Cfg.lattice[1] * np.array([np.cos(np.pi * 2 / 3), np.sin(np.pi * 2 / 3), 0])\n",
    "Ti7.PrimC = Cfg.lattice[2] * np.array([0, 0, 1])\n",
    "Atoms = Cfg.atoms\n",
    "for ii in range(len(Atoms)):\n",
    "    Ti7.addAtom(list(map(eval, Atoms[ii][0:3])), Atoms[ii][3])\n",
    "\n",
    "Ti7.getRecipVec()\n",
    "Ti7.getGs(Cfg.maxQ)"
   ]
  },
  {
   "cell_type": "code",
   "execution_count": 10,
   "metadata": {},
   "outputs": [
    {
     "ename": "SyntaxError",
     "evalue": "Missing parentheses in call to 'print'. Did you mean print(...)? (2141972625.py, line 13)",
     "output_type": "error",
     "traceback": [
      "\u001b[0;36m  Input \u001b[0;32mIn [10]\u001b[0;36m\u001b[0m\n\u001b[0;31m    print 'y=',pks[ii,1]\u001b[0m\n\u001b[0m    ^\u001b[0m\n\u001b[0;31mSyntaxError\u001b[0m\u001b[0;31m:\u001b[0m Missing parentheses in call to 'print'. Did you mean print(...)?\n"
     ]
    }
   ],
   "source": [
    "# Extract the window around the peak on a single omega frame\n",
    "\n",
    "def fetch(ii,pks,fn,offset=0,dx=150,dy=80,verbo=False,bGetLimit=False):\n",
    "    omegid=int((180-pks[ii,2])*20)+offset\n",
    "    if omegid<0:\n",
    "        omegid+=3600\n",
    "    if omegid>=3600:\n",
    "        omegid-=3600\n",
    "    I=plt.imread(fn+'{0:06d}.tif'.format(omegid))\n",
    "    x1=int((2047-pks[ii,0])-dx)\n",
    "    y1=int(pks[ii,1]-dy)\n",
    "    if verbo:\n",
    "        print 'y=',pks[ii,1]\n",
    "        print 'x=',pks[ii,0]\n",
    "    x1=max(0,x1)\n",
    "    y1=max(0,y1)\n",
    "    x2=x1+2*dx\n",
    "    y2=y1+2*dy\n",
    "    x2=min(x2,2048)\n",
    "    y2=min(y2,2048)\n",
    "    if bGetLimit:\n",
    "        return I[y1:y2,x1:x2],(x1,x2,y1,y2,omegid)\n",
    "    return I[y1:y2,x1:x2]"
   ]
  },
  {
   "cell_type": "code",
   "execution_count": null,
   "metadata": {
    "collapsed": false,
    "jupyter": {
     "outputs_hidden": false
    }
   },
   "outputs": [],
   "source": [
    "gid=Cfg.grainID\n",
    "strName='g{:02d}'.format(gid)\n",
    "\n",
    "pos=np.array((np.mean(grid_x[np.where(GrainIDMap==gid)]),np.mean(grid_y[np.where(GrainIDMap==gid)]),0))\n",
    "orien=Rot.EulerZXZ2Mat(np.array(GrainDict[gid])/180.0*np.pi)\n",
    "Ps,Gs,Info=Gsim.GetProjectedVertex(Det,Ti7,orien,etalimit,pos,getPeaksInfo=True,\n",
    "                                           omegaL=0,omegaU=180,energy=energy)\n",
    "print(len(Ps))"
   ]
  },
  {
   "cell_type": "code",
   "execution_count": null,
   "metadata": {
    "collapsed": false,
    "jupyter": {
     "outputs_hidden": false
    },
    "scrolled": true
   },
   "outputs": [],
   "source": [
    "fn='TiffFiles/Ti7_WithHRM_Under2ndLoad__'\n",
    "pks=Ps\n",
    "for ii in range(len(pks)):\n",
    "    allpks=[]\n",
    "    alllims=[]\n",
    "    totoffset=0\n",
    "    f,axis=plt.subplots(9,5)\n",
    "    i=0\n",
    "    j=0\n",
    "    for offset in range(totoffset-22,totoffset+23):\n",
    "        Im,limits=fetch(ii,pks,fn,offset,dx=150,dy=80,more=True)\n",
    "        \n",
    "        if i==9:\n",
    "            j+=1\n",
    "            i=0\n",
    "        axis[i,j].imshow(Im,vmin=0,vmax=30)\n",
    "        i+=1\n",
    "        \n",
    "        allpks.append(Im)\n",
    "        alllims.append(limits)\n",
    "        \n",
    "    f.subplots_adjust(wspace=0,hspace=0)\n",
    "    f.savefig(strName+'PeakImg/{0:d}.png'.format(ii),dpi=200,bbox_inches='tight')\n",
    "    plt.close(f)\n",
    "    allpks=np.array(allpks)\n",
    "    alllims=np.array(alllims)\n",
    "    np.save(strName+'RawImgData/Im{0:d}'.format(ii),allpks)\n",
    "    np.save(strName+'RawImgData/limit{0:d}'.format(ii),alllims)"
   ]
  },
  {
   "cell_type": "code",
   "execution_count": null,
   "metadata": {},
   "outputs": [],
   "source": [
    "# manually label the bad images in the folder of PeakImg\n",
    "# \"bad\" means extremely low signal to noise ratio or can't find the peak at all\n",
    "badIdx=[0,2]"
   ]
  },
  {
   "cell_type": "code",
   "execution_count": null,
   "metadata": {},
   "outputs": [],
   "source": [
    "# apply some filters to remove the noise\n",
    "\n",
    "\n",
    "Nfile=len(Ps)\n",
    "\n",
    "Im=[]\n",
    "flucThresh=4\n",
    "\n",
    "for ii in range(Nfile):\n",
    "    Im.append(np.load(strName+'RawImgData/Im{:d}.npy'.format(ii)))\n",
    "    Im[ii]=Im[ii]-np.median(Im[ii],axis=0) #substract the median\n",
    "    mask=Im[ii]>flucThresh\n",
    "    Im[ii]=mask*Im[ii] #make all pixel that below the fluctuation to be zero \n",
    "\n",
    "\n",
    "mykernel=np.array([[1,1,1],[1,-1,1],[1,1,1]])\n",
    "# remove hot spot (whose value is higher than the sum of 8 neighbors)\n",
    "for ii in range(Nfile):\n",
    "    for jj in range(45):\n",
    "        mask=convolve2d(Im[ii][jj],mykernel,mode='same')>0\n",
    "        Im[ii][jj]*=mask\n",
    "        \n",
    "\n",
    "mykernel2=np.array([[1,2,1],[2,4,2],[1,2,1]])/16.0\n",
    "# Smoothing\n",
    "for ii in range(Nfile):\n",
    "    for jj in range(45):\n",
    "        Im[ii][jj]=convolve2d(Im[ii][jj],mykernel2,mode='same')\n",
    "\n",
    "for ii in range(Nfile):\n",
    "    np.save(strName+'FilteredImgData/Im{:d}'.format(ii),Im[ii].astype('uint16'))"
   ]
  },
  {
   "cell_type": "code",
   "execution_count": null,
   "metadata": {
    "tags": []
   },
   "outputs": [],
   "source": [
    "goodidx = np.delete(np.arange(len(Ps)), badIdx)\n",
    "\n",
    "imgN = len(goodidx)\n",
    "peakMap = np.zeros((160,300,45*imgN),dtype=np.uint16)\n",
    "LimH = np.empty((imgN,5),dtype=np.int32)\n",
    "Gs_good = Gs[goodidx]\n",
    "whichOmega = np.empty(imgN,dtype=np.int32)\n",
    "\n",
    "\n",
    "avg_distortion = np.eye(3)\n",
    "MaxInt = np.empty(imgN,dtype=np.float32)\n",
    "\n",
    "for ii in range(imgN):\n",
    "    limit=np.load(strName+'RawImgData/limit{0:d}.npy'.format(goodidx[ii]))\n",
    "    img = np.load(strName+'FilteredImgData/Im{0:d}.npy'.format(goodidx[ii]))\n",
    "    peakMap[:img.shape[1],:img.shape[2],ii * 45:(ii + 1) * 45] = np.moveaxis(img,0,-1)\n",
    "    LimH[ii,:]=limit[0]\n",
    "    MaxInt[ii]=np.max(img)\n",
    "    if Info[goodidx[ii]]['WhichOmega']=='b':\n",
    "        whichOmega[ii] = 2\n",
    "    else:\n",
    "        whichOmega[ii] = 1\n",
    "\n",
    "\n",
    "\n",
    "with h5py.File(Cfg.peakFile, 'w') as f:\n",
    "    f.create_dataset(\"limits\", data=LimH)\n",
    "    f.create_dataset(\"Gs\", data=Gs_good)\n",
    "    f.create_dataset(\"whichOmega\", data=whichOmega)\n",
    "    f.create_dataset(\"Pos\", data=pos)\n",
    "    f.create_dataset(\"OrienM\", data=orien)\n",
    "    f.create_dataset(\"avg_distortion\", data=avg_distortion)\n",
    "    f.create_dataset(\"MaxInt\", data=MaxInt)\n",
    "\n",
    "    grp = f.create_group('Imgs')\n",
    "    for ii in range(imgN):\n",
    "        grp.create_dataset('Im{0:d}'.format(ii), data=peakMap[:,:,ii * 45:(ii + 1) * 45])"
   ]
  }
 ],
 "metadata": {
  "kernelspec": {
   "display_name": "Python 3 (ipykernel)",
   "language": "python",
   "name": "python3"
  },
  "language_info": {
   "codemirror_mode": {
    "name": "ipython",
    "version": 3
   },
   "file_extension": ".py",
   "mimetype": "text/x-python",
   "name": "python",
   "nbconvert_exporter": "python",
   "pygments_lexer": "ipython3",
   "version": "3.10.0"
  }
 },
 "nbformat": 4,
 "nbformat_minor": 4
}
