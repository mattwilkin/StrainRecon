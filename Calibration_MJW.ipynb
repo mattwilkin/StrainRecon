{
 "cells": [
  {
   "cell_type": "code",
   "execution_count": 1,
   "metadata": {
    "collapsed": false,
    "jupyter": {
     "outputs_hidden": false
    }
   },
   "outputs": [],
   "source": [
    "from util_mjw.MicFileTool import MicFile\n",
    "import util_mjw.Simulation as Gsim\n",
    "import util_mjw.RotRep as Rot\n",
    "import numpy as np\n",
    "import matplotlib.pyplot as plt\n",
    "from util_mjw.config import Config\n",
    "from scipy import ndimage\n",
    "from scipy.ndimage.measurements import label,find_objects,center_of_mass\n",
    "from scipy import optimize\n",
    "import json\n",
    "import os\n",
    "from util_mjw.calibration_misc import getCenter2,fetch_images,process_images,GetVertex,optimize_detector\n",
    "import util.Simulation as sim\n",
    "import h5py\n",
    "from scipy.interpolate import griddata"
   ]
  },
  {
   "cell_type": "markdown",
   "metadata": {
    "tags": []
   },
   "source": [
    "# Extract the windows around the Bragg Peaks from a small grain"
   ]
  },
  {
   "cell_type": "code",
   "execution_count": null,
   "metadata": {},
   "outputs": [],
   "source": [
    "mic_in_file = \"AuxData/Ti7_WithHRM_2ndLoad_z1_.mic.LBFS\"\n",
    "mic_out_file = \"Ti7HRM2nd.hdf5\""
   ]
  },
  {
   "cell_type": "code",
   "execution_count": 2,
   "metadata": {},
   "outputs": [
    {
     "ename": "NameError",
     "evalue": "name 'Cfg' is not defined",
     "output_type": "error",
     "traceback": [
      "\u001b[0;31m---------------------------------------------------------------------------\u001b[0m",
      "\u001b[0;31mNameError\u001b[0m                                 Traceback (most recent call last)",
      "\u001b[0;32m/tmp/user/3320/ipykernel_1890281/592754086.py\u001b[0m in \u001b[0;36m<module>\u001b[0;34m\u001b[0m\n\u001b[1;32m     30\u001b[0m     \u001b[0mGrainIDMap\u001b[0m\u001b[0;34m[\u001b[0m\u001b[0mtmp\u001b[0m\u001b[0;34m]\u001b[0m\u001b[0;34m=\u001b[0m \u001b[0mgrainID\u001b[0m\u001b[0;34m\u001b[0m\u001b[0;34m\u001b[0m\u001b[0m\n\u001b[1;32m     31\u001b[0m \u001b[0;34m\u001b[0m\u001b[0m\n\u001b[0;32m---> 32\u001b[0;31m \u001b[0;32mwith\u001b[0m \u001b[0mh5py\u001b[0m\u001b[0;34m.\u001b[0m\u001b[0mFile\u001b[0m\u001b[0;34m(\u001b[0m\u001b[0mCfg\u001b[0m\u001b[0;34m.\u001b[0m\u001b[0mmicFile\u001b[0m\u001b[0;34m,\u001b[0m\u001b[0;34m'w'\u001b[0m\u001b[0;34m)\u001b[0m \u001b[0;32mas\u001b[0m \u001b[0mf\u001b[0m\u001b[0;34m:\u001b[0m\u001b[0;34m\u001b[0m\u001b[0;34m\u001b[0m\u001b[0m\n\u001b[0m\u001b[1;32m     33\u001b[0m     \u001b[0mds\u001b[0m\u001b[0;34m=\u001b[0m\u001b[0mf\u001b[0m\u001b[0;34m.\u001b[0m\u001b[0mcreate_dataset\u001b[0m\u001b[0;34m(\u001b[0m\u001b[0;34m\"origin\"\u001b[0m\u001b[0;34m,\u001b[0m \u001b[0mdata\u001b[0m \u001b[0;34m=\u001b[0m \u001b[0mnp\u001b[0m\u001b[0;34m.\u001b[0m\u001b[0marray\u001b[0m\u001b[0;34m(\u001b[0m\u001b[0;34m[\u001b[0m\u001b[0;34m-\u001b[0m\u001b[0;36m0.5\u001b[0m\u001b[0;34m,\u001b[0m\u001b[0;34m-\u001b[0m\u001b[0;36m0.4\u001b[0m\u001b[0;34m]\u001b[0m\u001b[0;34m)\u001b[0m\u001b[0;34m)\u001b[0m\u001b[0;34m\u001b[0m\u001b[0;34m\u001b[0m\u001b[0m\n\u001b[1;32m     34\u001b[0m     \u001b[0mds\u001b[0m\u001b[0;34m.\u001b[0m\u001b[0mattrs\u001b[0m\u001b[0;34m[\u001b[0m\u001b[0;34mu'units'\u001b[0m\u001b[0;34m]\u001b[0m \u001b[0;34m=\u001b[0m \u001b[0;34mu'mm'\u001b[0m\u001b[0;34m\u001b[0m\u001b[0;34m\u001b[0m\u001b[0m\n",
      "\u001b[0;31mNameError\u001b[0m: name 'Cfg' is not defined"
     ]
    }
   ],
   "source": [
    "a=MicFile()\n",
    "grid_x,grid_y=np.meshgrid(np.arange(-0.5,0.2,0.002),np.arange(-0.4,0.4,0.002))\n",
    "grid_c = griddata(a.snp[:,0:2],a.snp[:,9],(grid_x,grid_y),method='nearest')\n",
    "grid_e1 = griddata(a.snp[:,0:2],a.snp[:,6],(grid_x,grid_y),method='nearest')\n",
    "grid_e2 = griddata(a.snp[:,0:2],a.snp[:,7],(grid_x,grid_y),method='nearest')\n",
    "grid_e3 = griddata(a.snp[:,0:2],a.snp[:,8],(grid_x,grid_y),method='nearest')\n",
    "\n",
    "g = np.where(grid_c>0.8,1,0)\n",
    "\n",
    "labels,num_features = label(g)\n",
    "\n",
    "ll = np.float32(labels.copy())\n",
    "ll[ll==0] = np.nan\n",
    "\n",
    "\n",
    "GrainDict={}\n",
    "for l in np.sort(np.unique(labels))[1:]:\n",
    "    \n",
    "    com =center_of_mass(g,labels,l)\n",
    "    com = (int(com[0]),int(com[1]))\n",
    "    GrainDict[l] = (grid_e1[com],grid_e2[com],grid_e3[com])\n",
    "GrainIDMap=np.zeros(grid_c.shape,dtype=int)\n",
    "for grainID in GrainDict:\n",
    "    \n",
    "    (e1,e2,e3)=GrainDict[grainID]\n",
    "    tmp = grid_c > 0.3\n",
    "    tmp*=np.absolute(grid_e1 - e1)<1\n",
    "    tmp*=np.absolute(grid_e2 - e2)<1\n",
    "    tmp*=np.absolute(grid_e3 - e3)<1\n",
    "    GrainIDMap[tmp]= grainID \n",
    "\n",
    "with h5py.File(Cfg.micFile,'w') as f:\n",
    "    ds=f.create_dataset(\"origin\", data = np.array([-0.5,-0.4]))\n",
    "    ds.attrs[u'units'] = u'mm'\n",
    "    ds=f.create_dataset(\"stepSize\", data = np.array([0.002,0.002]))\n",
    "    ds.attrs[u'units'] = u'mm'\n",
    "    f.create_dataset(\"Xcoordinate\", data = grid_x)\n",
    "    f.create_dataset(\"Ycoordinate\", data = grid_y)\n",
    "    f.create_dataset(\"Confidence\", data = grid_c)\n",
    "    f.create_dataset(\"Ph1\", data = grid_e1)\n",
    "    f.create_dataset(\"Psi\", data = grid_e2)\n",
    "    f.create_dataset(\"Ph2\", data = grid_e3)\n",
    "    f.create_dataset(\"GrainID\", data = GrainIDMap)\n",
    "    \n",
    "gg = np.float32(GrainIDMap.copy())\n",
    "gg[gg==0] = np.nan\n",
    "fig,ax = plt.subplots(ncols=4,figsize=(20,7))\n",
    "ax[0].imshow(grid_e3,origin='lower')\n",
    "ax[1].imshow(g,origin='lower')\n",
    "ax[2].imshow(ll,origin='lower')\n",
    "ax[3].imshow(gg,origin='lower')\n",
    "plt.show()\n",
    "print(GrainIDMap.max())"
   ]
  },
  {
   "cell_type": "code",
   "execution_count": null,
   "metadata": {},
   "outputs": [],
   "source": []
  },
  {
   "cell_type": "code",
   "execution_count": 2,
   "metadata": {},
   "outputs": [],
   "source": [
    "############ Experimental Parameters ##########\n",
    "grain_ID = 24\n",
    "Cfg = Config(f'ConfigFiles/test_all/Grain_{grain_ID}.yml')\n",
    "path = f'Calibration_Files/grain_{grain_ID}/'\n",
    "\n",
    "\n",
    "################### raw data #######################\n",
    "raw_data='/mnt/data/sparrow_data/NF-DataSets/2013-07_NF-Strain1/V/Suter_Jul13/NF/Ti7_WithHRM_Under2ndLoad/Ti7_WithHRM_Under2ndLoad__'\n",
    "\n",
    "if f'grain_{grain_ID}' not in os.listdir('Calibration_Files/'):\n",
    "    os.mkdir(path)\n",
    "    os.mkdir(path+'Ps_bf/')\n",
    "    os.mkdir(path+'Ps_filtered/')\n",
    "    \n",
    "      "
   ]
  },
  {
   "cell_type": "code",
   "execution_count": null,
   "metadata": {},
   "outputs": [],
   "source": []
  },
  {
   "cell_type": "code",
   "execution_count": 3,
   "metadata": {
    "collapsed": false,
    "jupyter": {
     "outputs_hidden": false
    }
   },
   "outputs": [],
   "source": [
    "Det1=Gsim.Detector(config=Cfg)\n",
    "crystal_str=Gsim.CrystalStr(config=Cfg)\n",
    "crystal_str.getRecipVec()\n",
    "crystal_str.getGs(Cfg.maxQ)\n",
    "o_mat=Rot.EulerZXZ2Mat(np.array(Cfg.euler)/180.0*np.pi)\n",
    "pks,Gs,Info=Gsim.GetProjectedVertex(Det1,crystal_str,o_mat,Cfg.etalimit/180*np.pi,\n",
    "                                    Cfg.grainPos,getPeaksInfo=True,\n",
    "                                    omegaL=Cfg.omgRange[0],omegaU=Cfg.omgRange[1],energy=Cfg.energy)\n"
   ]
  },
  {
   "cell_type": "code",
   "execution_count": 5,
   "metadata": {},
   "outputs": [],
   "source": [
    "# allpks,alllims = fetch_images(raw_data,pks,window,dx,dy,path)\n",
    "# flucThresh=4\n",
    "# Nfile = len(allpks)\n",
    "# Im = process_images(path,Nfile,window,flucThresh)\n",
    "# goodidx = np.arange(Nfile)"
   ]
  },
  {
   "cell_type": "markdown",
   "metadata": {},
   "source": [
    "# Find the Center of Mass of each Bragg Peak"
   ]
  },
  {
   "cell_type": "markdown",
   "metadata": {},
   "source": [
    "# Write down all the center of mass for the good Peaks"
   ]
  },
  {
   "cell_type": "code",
   "execution_count": 6,
   "metadata": {},
   "outputs": [],
   "source": [
    "center_of_mass = []\n",
    "goodidx = np.arange(45)\n",
    "for idx in goodidx:\n",
    "    tmp=np.load(path+f'Ps_filtered/Im{idx}.npy')\n",
    "    Omeg = np.argmax(tmp[18:30,50:100,100:200].sum(axis=(1,2)))+18\n",
    "    Py,Px,cy,cx,co = getCenter2(tmp,Omeg,dx=50,dy=50,do=5)\n",
    "    center = np.array([co,cx,cy])\n",
    "    center_of_mass.append(center)\n",
    "center_of_mass = np.stack(center_of_mass)"
   ]
  },
  {
   "cell_type": "markdown",
   "metadata": {},
   "source": [
    "# Start Calibration"
   ]
  },
  {
   "cell_type": "code",
   "execution_count": 7,
   "metadata": {},
   "outputs": [],
   "source": [
    "x,oldPs,newPs,absCOM,goodidx = optimize_detector(path,center_of_mass,goodidx,Cfg)"
   ]
  },
  {
   "cell_type": "markdown",
   "metadata": {},
   "source": [
    "# Check the position of simulated Bragg peaks after calibration"
   ]
  },
  {
   "cell_type": "code",
   "execution_count": 11,
   "metadata": {},
   "outputs": [
    {
     "name": "stdout",
     "output_type": "stream",
     "text": [
      "1.6812524785223308 0.6012475879505154\n",
      "22\n"
     ]
    }
   ],
   "source": [
    "dist0 = np.absolute(np.linalg.norm(oldPs-absCOM,axis=1)).mean()\n",
    "dist1 = np.absolute(np.linalg.norm(newPs-absCOM,axis=1)).mean()\n",
    "print(dist0,dist1)\n",
    "print(len(oldPs))"
   ]
  },
  {
   "cell_type": "code",
   "execution_count": 9,
   "metadata": {
    "tags": []
   },
   "outputs": [
    {
     "data": {
      "image/png": "[encoded data removed]",
      "text/plain": [
       "<Figure size 1224x288 with 2 Axes>"
      ]
     },
     "metadata": {
      "needs_background": "light"
     },
     "output_type": "display_data"
    }
   ],
   "source": [
    "fig,ax=plt.subplots(1,2,figsize=(17,4))\n",
    "ax[0].hist(oldPs[:,2]-absCOM[:,2],label='before calibration',bins=np.arange(-0.2,0.35,0.05),alpha=0.5)\n",
    "ax[0].hist(newPs[:,2]-absCOM[:,2],label='after calibration',bins=np.arange(-0.2,0.35,0.05),alpha=0.5)\n",
    "ax[0].legend(loc='upper right', fontsize=15)\n",
    "ax[0].set_xlabel(r'$\\Omega$ difference $(^\\circ)$', fontsize=20)\n",
    "ax[1].scatter(oldPs[:,0]-absCOM[:,0],oldPs[:,1]-absCOM[:,1],label='before calibration')\n",
    "ax[1].scatter(newPs[:,0]-absCOM[:,0],newPs[:,1]-absCOM[:,1],label='after calibration',alpha=0.5)\n",
    "ax[1].set_xlabel('horizontal difference (pixels)', fontsize=20)\n",
    "ax[1].set_ylabel('vertical difference (pixels)', fontsize=20)\n",
    "ax[1].legend(loc='upper right', fontsize=15)\n",
    "ax[0].tick_params(axis='both', which='major', labelsize=20)\n",
    "ax[1].tick_params(axis='both', which='major', labelsize=20)\n",
    "plt.savefig('calibration.png',dpi=100,bbox_inches='tight')\n",
    "plt.show()"
   ]
  },
  {
   "cell_type": "code",
   "execution_count": 10,
   "metadata": {},
   "outputs": [],
   "source": [
    "import yaml\n",
    "\n",
    "x = list([float(xx) for xx in x])\n",
    "\n",
    "for i in range(40):\n",
    "    if f'Grain_{i}.yml' in os.listdir('ConfigFiles/test_all/'):\n",
    "        with open(f'ConfigFiles/test_all/Grain_{i}.yml') as f:\n",
    "            data = yaml.safe_load(f)\n",
    "    \n",
    "        \n",
    "        with open(f'ConfigFiles/test_all/Grain_{i}.yml', 'w') as file:\n",
    "            data['JCenter'] += float(x[0])\n",
    "            data['KCenter'] += float(x[1])\n",
    "            data['Ldistance'] += float(x[2]*1e-3)\n",
    "            data['tilt'] = [float(a) for a in list(np.array(data['tilt'])+x[3:6])]\n",
    "            data['grainPos'] = [float(a) for a in list(np.array(data['grainPos'])+np.array([x[6],x[7],0])*1e-3)]\n",
    "            documents = yaml.dump(data, file)"
   ]
  },
  {
   "cell_type": "code",
   "execution_count": null,
   "metadata": {},
   "outputs": [],
   "source": []
  }
 ],
 "metadata": {
  "kernelspec": {
   "display_name": "Python 3 (ipykernel)",
   "language": "python",
   "name": "python3"
  },
  "language_info": {
   "codemirror_mode": {
    "name": "ipython",
    "version": 3
   },
   "file_extension": ".py",
   "mimetype": "text/x-python",
   "name": "python",
   "nbconvert_exporter": "python",
   "pygments_lexer": "ipython3",
   "version": "3.9.7"
  }
 },
 "nbformat": 4,
 "nbformat_minor": 4
}
