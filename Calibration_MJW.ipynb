{
 "cells": [
  {
   "cell_type": "code",
   "execution_count": 1,
   "metadata": {
    "collapsed": false,
    "jupyter": {
     "outputs_hidden": false
    }
   },
   "outputs": [],
   "source": [
    "from util.MicFileTool import MicFile\n",
    "import util.Simulation as Gsim\n",
    "import util.RotRep as Rot\n",
    "import numpy as np\n",
    "import matplotlib.pyplot as plt\n",
    "\n",
    "from scipy import ndimage\n",
    "from scipy import optimize\n",
    "import json\n",
    "import os"
   ]
  },
  {
   "cell_type": "markdown",
   "metadata": {},
   "source": [
    "# Extract the windows around the Bragg Peaks from a small grain"
   ]
  },
  {
   "cell_type": "code",
   "execution_count": 2,
   "metadata": {
    "collapsed": false,
    "jupyter": {
     "outputs_hidden": false
    }
   },
   "outputs": [
    {
     "name": "stdout",
     "output_type": "stream",
     "text": [
      "-0.556875 -0.00974279 0 2 7 1 281.746 88.7135 78.1765 0.145161 0.885753 0.14876 0 1 1 1 0 0 0\n",
      "\n",
      "<class 'str'>\n",
      "sw is 0.72 \n",
      "\n",
      "shape of snp is (32855, 19)\n"
     ]
    }
   ],
   "source": [
    "a=MicFile(\"AuxData/Ti7_WithHRM_2ndLoad_z1_.mic.LBFS\")\n"
   ]
  },
  {
   "cell_type": "code",
   "execution_count": 3,
   "metadata": {},
   "outputs": [],
   "source": [
    "# crystal_file = {'material':'Ti7LP15',\n",
    "#                 'A':list(2.95*np.array([1,0,0])),\n",
    "#                'B':list(2.95*np.array([np.cos(np.pi*2/3),np.sin(np.pi*2/3),0])),\n",
    "#                'C':list(4.7152*np.array([0,0,1])),\n",
    "#                'atom_pos':[[[1/3.0,2/3.0,1/4.0],22],[[2/3.0,1/3.0,3/4.0],22]]}\n",
    "# with open('Ti7LP15.json','w') as file:\n",
    "#     json.dump(crystal_file,file)\n",
    "    \n",
    "    \n",
    "# det_file = {'name':'test',\n",
    "#                 'psizeJ':0.001454,\n",
    "#                'psizeK':0.001454,\n",
    "#                 'pnJ':2048,\n",
    "#                 'pnK':2048,\n",
    "#                'J':1182.19,\n",
    "#                 'K':2026.27,\n",
    "#                'trans_vec':[7.14503,0,0],\n",
    "#                'tilt':Rot.EulerZXZ2Mat(np.array([89.1588,87.5647,0.278594])/180.0*np.pi).tolist()}\n",
    "\n",
    "# with open('det_params.json','w') as file:\n",
    "#     json.dump(det_file,file)"
   ]
  },
  {
   "cell_type": "code",
   "execution_count": 4,
   "metadata": {},
   "outputs": [],
   "source": [
    "############ Experimental Parameters ############\n",
    "crystal_file = 'Ti7LP15.json'\n",
    "detector_file = 'det_params.json'\n",
    "energy = 51.9957\n",
    "etalimit=81/180.0*np.pi\n",
    "omegaL,omegaU = 0,180\n",
    "\n",
    "\n",
    "################ grain ID and hexomap output file #############\n",
    "grain_ID = '55_2nd'\n",
    "path = 'Calibration_Files/grain_%s/'%grain_ID\n",
    "grain_pos=np.array([-0.345937, 0.238698, 0])\n",
    "o_mat=Rot.EulerZXZ2Mat(np.array([97.9141, 90.0041, 259.313])/180.0*np.pi)\n",
    "\n",
    "################### raw data #######################\n",
    "raw_data='/mnt/data/sparrow_data/NF-DataSets/2013-07_NF-Strain1/V/Suter_Jul13/NF/Ti7_WithHRM_Under2ndLoad/Ti7_WithHRM_Under2ndLoad__'\n",
    "\n",
    "if 'grain_%s'%grain_ID not in os.listdir('Calibration_Files/'):\n",
    "    os.mkdir(path)\n",
    "    os.mkdir(path+'Ps_bf/')\n",
    "    os.mkdir(path+'Ps_filtered/')\n",
    "    \n",
    "      "
   ]
  },
  {
   "cell_type": "code",
   "execution_count": 5,
   "metadata": {
    "collapsed": false,
    "jupyter": {
     "outputs_hidden": false
    }
   },
   "outputs": [],
   "source": [
    "\n",
    "\n",
    "# create detector object\n",
    "Det1=Gsim.Detector(param_file=detector_file)\n",
    "\n",
    "#create crystal object\n",
    "crystal_str=Gsim.CrystalStr(cryst_file=crystal_file)\n",
    "crystal_str.getRecipVec()\n",
    "crystal_str.getGs(13)\n",
    "\n",
    "\n",
    "Ps,Gs,Info=Gsim.GetProjectedVertex(Det1,crystal_str,o_mat,etalimit,\n",
    "                                    grain_pos,getPeaksInfo=True,\n",
    "                                    omegaL=omegaL,omegaU=omegaU,energy=energy)\n",
    "\n",
    "\n"
   ]
  },
  {
   "cell_type": "code",
   "execution_count": 6,
   "metadata": {},
   "outputs": [],
   "source": [
    "# extract window around the Bragg peak on an omega frame\n",
    "def fetch(ii,pks,fn,offset=0,dx=100,dy=50,verbo=False,more=False,pnx=2048,pny=2048,omega_step=20):\n",
    "    omegid=int((180-pks[ii,2])*omega_step)+offset\n",
    "    if omegid<0:\n",
    "        omegid+=3600\n",
    "    if omegid>=3600:\n",
    "        omegid-=3600\n",
    "    I=plt.imread(fn+'{0:06d}.tif'.format(omegid))\n",
    "    x1=int((pny-1-pks[ii,0])-dx)\n",
    "    y1=int(pks[ii,1]-dy)\n",
    "    if verbo:\n",
    "        print('y=',pks[ii,1])\n",
    "        print('x=',pks[ii,0])\n",
    "    x1=max(0,x1)\n",
    "    y1=max(0,y1)\n",
    "    x2=x1+2*dx\n",
    "    y2=y1+2*dy\n",
    "    x2=min(x2,pnx)\n",
    "    y2=min(y2,pny)\n",
    "    if more:\n",
    "        return I[y1:y2,x1:x2],(x1,x2,y1,y2,omegid)\n",
    "    return I[y1:y2,x1:x2]\n"
   ]
  },
  {
   "cell_type": "code",
   "execution_count": 7,
   "metadata": {},
   "outputs": [],
   "source": [
    "pks=Ps"
   ]
  },
  {
   "cell_type": "code",
   "execution_count": 8,
   "metadata": {
    "collapsed": false,
    "jupyter": {
     "outputs_hidden": false
    }
   },
   "outputs": [],
   "source": [
    "dx = 150\n",
    "dy = 80\n",
    "\n",
    "\n",
    "\n",
    "for ii in range(len(pks)):\n",
    "    allpks=[]\n",
    "    alllims=[]\n",
    "    totoffset=0\n",
    "    f,axis=plt.subplots(9,5)\n",
    "    i=0\n",
    "    j=0\n",
    "    for offset in range(totoffset-22,totoffset+23):\n",
    "        Im,limits=fetch(ii,pks,raw_data,offset,dx=dx,dy=dy,more=True)\n",
    "        \n",
    "        if i==9:\n",
    "            j+=1\n",
    "            i=0\n",
    "        axis[i,j].imshow(Im,vmin=0,vmax=30)\n",
    "        i+=1\n",
    "        \n",
    "        allpks.append(Im)\n",
    "        alllims.append(limits)\n",
    "        \n",
    "    f.subplots_adjust(wspace=0,hspace=0)\n",
    "    f.savefig(path+'Ps_bf/{0:d}.png'.format(ii),dpi=200,bbox_inches='tight')\n",
    "    plt.close(f)\n",
    "    allpks=np.array(allpks)\n",
    "    alllims=np.array(alllims)\n",
    "    np.save(path+'Ps_bf/Im{0:d}'.format(ii),allpks)\n",
    "    np.save(path+'Ps_bf/limit{0:d}'.format(ii),alllims)"
   ]
  },
  {
   "cell_type": "code",
   "execution_count": 9,
   "metadata": {},
   "outputs": [],
   "source": [
    "Nfile=len(pks)\n",
    "\n",
    "\n",
    "Im=[]\n",
    "flucThresh=4\n",
    "\n",
    "for ii in range(Nfile):\n",
    "    Im.append(np.load(path+'Ps_bf/Im{:d}.npy'.format(ii)))\n",
    "    Im[ii]=Im[ii]-np.median(Im[ii],axis=0) #substract the median\n",
    "    mask=Im[ii]>flucThresh\n",
    "    Im[ii]=mask*Im[ii] #make all pixel that below the fluctuation to be zero \n",
    "\n",
    "from scipy.signal import convolve2d\n",
    "mykernel=np.array([[1,1,1],[1,-1,1],[1,1,1]])\n",
    "# remove hot spot (whose value is higher than the sum of 8 neighbors)\n",
    "for ii in range(Nfile):\n",
    "    for jj in range(45):\n",
    "        mask=convolve2d(Im[ii][jj],mykernel,mode='same')>0\n",
    "        Im[ii][jj]*=mask\n",
    "        \n",
    "\n",
    "mykernel2=np.array([[1,2,1],[2,4,2],[1,2,1]])/16.0\n",
    "# Smoothing\n",
    "for ii in range(Nfile):\n",
    "    for jj in range(45):\n",
    "        Im[ii][jj]=convolve2d(Im[ii][jj],mykernel2,mode='same')\n",
    "\n",
    "for ii in range(Nfile):\n",
    "    np.save(path+'Ps_filtered/Im{:d}'.format(ii),Im[ii].astype('uint16'))"
   ]
  },
  {
   "cell_type": "code",
   "execution_count": 10,
   "metadata": {},
   "outputs": [
    {
     "data": {
      "image/png": "[encoded data removed]",
      "text/plain": [
       "<Figure size 432x288 with 1 Axes>"
      ]
     },
     "metadata": {
      "needs_background": "light"
     },
     "output_type": "display_data"
    },
    {
     "data": {
      "text/plain": [
       "(array([41]),)"
      ]
     },
     "execution_count": 10,
     "metadata": {},
     "output_type": "execute_result"
    }
   ],
   "source": [
    "idx = 2\n",
    "a = np.load(path+f'Ps_filtered/Im{idx}.npy')\n",
    "\n",
    "plt.imshow(a[41,:,:])\n",
    "plt.show()\n",
    "\n",
    "maxes = a.sum(axis=(1,2))\n",
    "np.where(maxes==maxes.max())\n",
    "            \n",
    "    "
   ]
  },
  {
   "cell_type": "code",
   "execution_count": 11,
   "metadata": {},
   "outputs": [],
   "source": [
    "# manually write down the IDs of \"good\" peaks for calibration\n",
    "\n",
    "goodidx=np.array([2,4,5,7,8,9,10,12,15,18,\n",
    "                  19,24,25,26,27,28,29,30,\n",
    "                  31,32,33,34,35,37,38,39,\n",
    "                  40,41,43,46,49,50,51,52,\n",
    "                  53,54,55,56,57,60,63,64,\n",
    "                  65,66,67,69,70,71,72,73,\n",
    "                  74,76,77,78,79,81,82,83,\n",
    "                  84,85,86,87,88,89,90,91,\n",
    "                  92,93,94,95,\n",
    "                  36,44,45,62,68,80])"
   ]
  },
  {
   "cell_type": "markdown",
   "metadata": {},
   "source": [
    "# Find the Center of Mass of each Bragg Peak"
   ]
  },
  {
   "cell_type": "code",
   "execution_count": 12,
   "metadata": {},
   "outputs": [],
   "source": [
    "\n",
    "# choose one of following two methods to find the center of mass of each \"good\" Bragg peak.\n",
    "\n",
    "\n",
    "# can be used even the peak persists on several omega frames\n",
    "def getCenter1(Im,Omeg1,Omeg2,lower=100,upper=2000):\n",
    "    blobs, _ = ndimage.label(Im[Omeg1:Omeg2+1])\n",
    "    _,size=np.unique(blobs,return_counts=True)\n",
    "    blobID = np.where((size>lower)*(size<upper))[0]\n",
    "    if len(blobID)==1:\n",
    "        blobID=blobID[0]\n",
    "    else:\n",
    "        print('need manual pick')\n",
    "        return\n",
    "    co,cy,cx = ndimage.measurements.center_of_mass(Im[Omeg1:Omeg2+1],blobs,blobID)\n",
    "\n",
    "    return co,cy,cx\n",
    "\n",
    "# can be only used on single omega frame\n",
    "def getCenter2(Im,Omeg,dx=15,dy=7):\n",
    "    Py,Px=ndimage.measurements.maximum_position(Im[Omeg])\n",
    "    labels=np.zeros(Im[Omeg].shape,dtype=int)\n",
    "    labels[Py-dy:Py+dy+1,Px-dx:Px+dx+1]=1\n",
    "    cy,cx = ndimage.measurements.center_of_mass(Im[Omeg],labels=labels,index=1)\n",
    "    return Py,Px,cy,cx"
   ]
  },
  {
   "cell_type": "code",
   "execution_count": 13,
   "metadata": {},
   "outputs": [
    {
     "name": "stdout",
     "output_type": "stream",
     "text": [
      "(21.28, 8.54, 144.77)\n"
     ]
    },
    {
     "data": {
      "image/png": "[encoded data removed]",
      "text/plain": [
       "<Figure size 432x288 with 1 Axes>"
      ]
     },
     "metadata": {
      "needs_background": "light"
     },
     "output_type": "display_data"
    }
   ],
   "source": [
    "# %matplotlib notebook\n",
    "tmp=np.load(path+'Ps_filtered/Im88.npy')\n",
    "bOmeg=21\n",
    "eOmeg=22\n",
    "\n",
    "co,cy,cx = getCenter1(tmp,bOmeg,eOmeg,lower=100,upper=1000)\n",
    "print(\"({:.2f}, {:.2f}, {:.2f})\".format(co+bOmeg,cx,cy))\n",
    "plt.imshow(np.sum(tmp[bOmeg:eOmeg+1],axis=0))\n",
    "plt.scatter(cx,cy,c='k')\n",
    "plt.show()"
   ]
  },
  {
   "cell_type": "code",
   "execution_count": 14,
   "metadata": {},
   "outputs": [
    {
     "name": "stdout",
     "output_type": "stream",
     "text": [
      "(21.00, 125.61, 92.52)\n"
     ]
    },
    {
     "data": {
      "image/png": "[encoded data removed]",
      "text/plain": [
       "<Figure size 432x288 with 1 Axes>"
      ]
     },
     "metadata": {
      "needs_background": "light"
     },
     "output_type": "display_data"
    }
   ],
   "source": [
    "# %matplotlib notebook\n",
    "tmp=np.load(path+'Ps_filtered/Im94.npy')\n",
    "Omeg=21\n",
    "Py,Px,cy,cx = getCenter2(tmp,Omeg,dx=15,dy=5)\n",
    "print(\"({:.2f}, {:.2f}, {:.2f})\".format(Omeg,cx,cy))\n",
    "plt.imshow(tmp[Omeg])\n",
    "plt.scatter(cx,cy,c='k')\n",
    "plt.show()"
   ]
  },
  {
   "cell_type": "markdown",
   "metadata": {},
   "source": [
    "# Write down all the center of mass for the good Peaks"
   ]
  },
  {
   "cell_type": "code",
   "execution_count": 15,
   "metadata": {
    "collapsed": false,
    "jupyter": {
     "outputs_hidden": false
    }
   },
   "outputs": [],
   "source": [
    "# Write down the center of mass of each Bragg Peak, in the order of goodidx\n",
    "center_of_mass = np.array([(28.79, 161.38, 36.47),\n",
    "                           (20, 141.56, 51.82),\n",
    "                           (20.00, 136.09, 52.67),\n",
    "                           (28.00, 152.87, 54.98),\n",
    "                           (31.00, 150.29, 56.65),\n",
    "                           (19.86, 141.39, 56.96),\n",
    "                           (21.00, 135.42, 55.26),\n",
    "                           (27.47, 147.29, 57.41),\n",
    "                           (19.33, 139.94, 59.89),\n",
    "                           (26.00, 152.22, 58.66),\n",
    "                           (26.00, 152.82, 60.23),\n",
    "                           (21.00, 140.49, 63.34),\n",
    "                           (22.00, 77.09, 63.10),\n",
    "                           (26.61, 153.50, 67.04),\n",
    "                           (22.00, 141.62, 66.31),\n",
    "                           (22.00, 22.54, 66.19),\n",
    "                           (26.00, 149.67, 67.16),\n",
    "                           (26.55, 146.24, 67.16),\n",
    "                           (31.40, 144.80, 69.36),\n",
    "                           (20.42, 142.44, 68.36),\n",
    "                           (21.48, 140.41, 68.70),\n",
    "                           (21.91, 138.86, 68.54),\n",
    "                           (22.00, 68.60, 68.84),\n",
    "                           (25.00, 147.25, 68.22),\n",
    "                           (25.00, 146.93, 68.76),\n",
    "                           (19.00, 153.14, 71.91),\n",
    "                           (25.00, 148.87, 68.36),\n",
    "                           (19.68, 146.27, 72.12),\n",
    "                           (21.53, 78.33, 70.98),\n",
    "                           (26.00, 152.47, 72.68),\n",
    "                           (22.00, 68.98, 70.95),\n",
    "                           (25.00, 148.49, 73.62),\n",
    "                           (25.00, 148.11, 74.45),\n",
    "                           (25.67, 150.38, 75.97),\n",
    "                           (23.00, 144.00, 72.79),\n",
    "                           (22.93, 141.36, 73.26),\n",
    "                           (23.22, 140.70, 74.06),\n",
    "                           (23.00, 60.33, 73.96),\n",
    "                           (24.74, 144.38, 74.19),\n",
    "                           (23.00, 142.72, 75.71),\n",
    "                           (24.28, 146.32, 74.34),\n",
    "                           (21.00, 74.10, 78.07),\n",
    "                           (24.00, 149.06, 74.65),\n",
    "                           (22.00, 115.61, 77.83),\n",
    "                           (22.00, 53.23, 76.99),\n",
    "                           (23.00, 13.56, 74.23),\n",
    "                           (24.00, 146.26, 77.74),\n",
    "                           (23.00, 148.08, 75.22),\n",
    "                           (23.00, 143.69, 75.62),\n",
    "                           (25.00, 145.35, 77.68),\n",
    "                           (24.00, 143.52, 77.78),\n",
    "                           (24.00, 142.50, 77.13),\n",
    "                           (23.00, 142.20, 77.28),\n",
    "                           (23.00, 142.62, 77.41),\n",
    "                           (23.00, 66.54, 77.65),\n",
    "                           (24.00, 141.78, 77.94),\n",
    "                           (24.00, 142.46, 78.02),\n",
    "                           (23.00, 146.43, 77.95),\n",
    "                           (23.00, 148.30, 78.59),\n",
    "                           (23.00, 145.70, 78.51),\n",
    "                           (23.00, 145.49, 78.34),\n",
    "                           (24.00, 146.21, 78.10),\n",
    "                           (24.00, 146.66, 78.50),\n",
    "                           (24.48, 148.78, 79.36),\n",
    "                           (22.00, 150.51, 75.82),\n",
    "                           (23.00, 148.37, 76.01),\n",
    "                           (22.00, 103.28, 76.59),\n",
    "                           (24.00, 147.77, 78.74),\n",
    "                           (23.00, 148.90, 76.78),\n",
    "                           (23.00, 145.66, 76.77),\n",
    "                           (26.00, 148.64, 67.44),\n",
    "                           (24.37, 152.98, 69.57),\n",
    "                           (25.00, 152.38, 71.98),\n",
    "                           (25.00, 144.92, 74.90),\n",
    "                           (25.00, 151.22, 76.78),\n",
    "                           (24.81, 142.24, 77.70)])\n",
    "# np.save('center_of_mass.npy',center_of_mass)"
   ]
  },
  {
   "cell_type": "code",
   "execution_count": 16,
   "metadata": {
    "collapsed": false,
    "jupyter": {
     "outputs_hidden": false
    }
   },
   "outputs": [],
   "source": [
    "imgN = len(goodidx)\n",
    "\n",
    "LimH = np.empty((imgN,5),dtype=np.int32)\n",
    "good_Gs = Gs[goodidx]\n",
    "whichOmega = np.empty(imgN,dtype=np.int32)\n",
    "\n",
    "\n",
    "\n",
    "for ii in range(imgN):\n",
    "    limit=np.load(path+'Ps_bf/limit{0:d}.npy'.format(goodidx[ii]))\n",
    "    \n",
    "    LimH[ii,:]=limit[0]\n",
    "\n",
    "    if Info[goodidx[ii]]['WhichOmega']=='b':\n",
    "        whichOmega[ii] = 2\n",
    "    else:\n",
    "        whichOmega[ii] = 1"
   ]
  },
  {
   "cell_type": "code",
   "execution_count": 17,
   "metadata": {
    "collapsed": false,
    "jupyter": {
     "outputs_hidden": false
    }
   },
   "outputs": [],
   "source": [
    "absCOM=np.empty(center_of_mass.shape)\n",
    "for ii in range(len(absCOM)):\n",
    "    absCOM[ii,1]=LimH[ii,2]+center_of_mass[ii,2]\n",
    "    absCOM[ii,0]=2047-(LimH[ii,0]+center_of_mass[ii,1])\n",
    "    absCOM[ii,2]=(LimH[ii,4]+center_of_mass[ii,0])\n",
    "    if absCOM[ii,2] >=3600:\n",
    "        absCOM[ii,2] -= 3600\n",
    "    absCOM[ii,2] = 180-absCOM[ii,2]*0.05"
   ]
  },
  {
   "cell_type": "markdown",
   "metadata": {},
   "source": [
    "# Start Calibration"
   ]
  },
  {
   "cell_type": "code",
   "execution_count": 18,
   "metadata": {
    "collapsed": false,
    "jupyter": {
     "outputs_hidden": false
    }
   },
   "outputs": [],
   "source": [
    "def GetVertex(Det1,Gs,Omegas,orien,etalimit,grainpos,bIdx=True,omegaL=-90,omegaU=90,energy=50):\n",
    "    Peaks=[]\n",
    "    rotatedG=orien.dot(Gs.T).T\n",
    "    for ii in range(len(rotatedG)):\n",
    "        g1=rotatedG[ii]\n",
    "        res=Gsim.frankie_angles_from_g(g1,verbo=False,energy=energy)\n",
    "\n",
    "        if Omegas[ii]==1:\n",
    "            omega=res['omega_a']/180.0*np.pi\n",
    "            newgrainx=np.cos(omega)*grainpos[0]-np.sin(omega)*grainpos[1]\n",
    "            newgrainy=np.cos(omega)*grainpos[1]+np.sin(omega)*grainpos[0]\n",
    "            idx=Det1.IntersectionIdx(np.array([newgrainx,newgrainy,0]),res['2Theta'],res['eta'],bIdx\n",
    "                                     ,checkBoundary=False\n",
    "                                    )\n",
    "\n",
    "            Peaks.append([idx[0],idx[1],res['omega_a']])\n",
    "\n",
    "                \n",
    "        else:\n",
    "            omega=res['omega_b']/180.0*np.pi\n",
    "            newgrainx=np.cos(omega)*grainpos[0]-np.sin(omega)*grainpos[1]\n",
    "            newgrainy=np.cos(omega)*grainpos[1]+np.sin(omega)*grainpos[0]\n",
    "            idx=Det1.IntersectionIdx(np.array([newgrainx,newgrainy,0]),res['2Theta'],-res['eta'],bIdx\n",
    "                                    ,checkBoundary=False\n",
    "                                    )\n",
    "            Peaks.append([idx[0],idx[1],res['omega_b']])\n",
    "\n",
    "    Peaks=np.array(Peaks)\n",
    "    return Peaks"
   ]
  },
  {
   "cell_type": "code",
   "execution_count": 19,
   "metadata": {},
   "outputs": [],
   "source": [
    "pars={'J':0,'K':0,'L':0,'tilt':(0,0,0),'x':0,'y':0,'distortion':((0,0,0),(0,0,0),(0,0,0))}\n",
    "DetDefault=Gsim.Detector(psizeJ=0.001454, psizeK=0.001454)\n",
    "\n",
    "def SimP(x):\n",
    "    DetDefault.Reset()\n",
    "    pars['J']=x[0]+1182.19\n",
    "    pars['K']=x[1]+2026.27\n",
    "    pars['L']=x[2]*10**(-3)+7.14503\n",
    "    pars['tilt']=Rot.EulerZXZ2Mat((x[3:6]+np.array([89.1588,87.5647,0.278594]))/180.0*np.pi)\n",
    "    pars['x']=x[6]*10**(-3)-0.345937\n",
    "    pars['y']=x[7]*10**(-3)+0.238698\n",
    "    pars['distortion']=x[8:17].reshape((3,3))*10**(-3)+np.eye(3)\n",
    "    DetDefault.Move(pars['J'],pars['K'],np.array([pars['L'],0,0]),pars['tilt'])\n",
    "    pos=np.array([pars['x'], pars['y'], 0])\n",
    "    Ps=GetVertex(DetDefault,\n",
    "                    good_Gs,\n",
    "                    whichOmega,\n",
    "                    pars['distortion'],\n",
    "                    etalimit,\n",
    "                    pos,\n",
    "                    bIdx=False,\n",
    "                    omegaL=0,omegaU=180,energy=energy) \n",
    "    return Ps\n",
    "\n",
    "def CostFunc(x):\n",
    "    Ps = SimP(x)\n",
    "    weights=np.array((1,5,100))\n",
    "    tmp=np.sum(((Ps-absCOM)*weights)**2,axis=0)\n",
    "    return np.sum(tmp)"
   ]
  },
  {
   "cell_type": "code",
   "execution_count": 20,
   "metadata": {
    "collapsed": false,
    "jupyter": {
     "outputs_hidden": false
    }
   },
   "outputs": [
    {
     "name": "stdout",
     "output_type": "stream",
     "text": [
      "      fun: 497.5866126237406\n",
      " hess_inv: <17x17 LbfgsInvHessProduct with dtype=float64>\n",
      "      jac: array([-0.05084075, -0.04588401, -0.02344224, -0.58892055, -0.30861429,\n",
      "       -1.61728622,  0.18092122,  0.05128413, -0.08977281, -0.06505729,\n",
      "        0.10445547,  0.03230412,  0.01377884, -0.08586198,  0.17719799,\n",
      "        0.17075763, -0.19430216])\n",
      "  message: 'CONVERGENCE: REL_REDUCTION_OF_F_<=_FACTR*EPSMCH'\n",
      "     nfev: 11394\n",
      "      nit: 554\n",
      "     njev: 633\n",
      "   status: 0\n",
      "  success: True\n",
      "        x: array([-1.94590765e+00, -3.50800883e+00, -8.91343618e+01,  5.34655893e-01,\n",
      "        2.47994791e+00, -8.82475546e-02,  1.49199694e+01, -2.63017925e+00,\n",
      "        7.91054683e+00, -5.48537993e-01,  3.54198905e-01,  1.10120828e+00,\n",
      "        7.49117461e+00,  6.50794125e-01, -6.65259832e-01, -6.26602199e-01,\n",
      "        8.60900622e+00])\n"
     ]
    }
   ],
   "source": [
    "res=optimize.minimize(CostFunc,np.zeros(17)\n",
    "                      ,bounds=[(-5,5),(-5,2),(-100,50)]+3*[(-0.3,3)]+2*[(-10,20)]+9*[(-5,10)]\n",
    "                     )\n",
    "print(res)"
   ]
  },
  {
   "cell_type": "markdown",
   "metadata": {},
   "source": [
    "# Check the position of simulated Bragg peaks after calibration"
   ]
  },
  {
   "cell_type": "code",
   "execution_count": 21,
   "metadata": {
    "collapsed": false,
    "jupyter": {
     "outputs_hidden": false
    }
   },
   "outputs": [],
   "source": [
    "newPs=SimP(res['x'])"
   ]
  },
  {
   "cell_type": "code",
   "execution_count": 22,
   "metadata": {},
   "outputs": [],
   "source": [
    "oldPs=SimP(np.zeros(17))"
   ]
  },
  {
   "cell_type": "code",
   "execution_count": 23,
   "metadata": {
    "scrolled": true,
    "tags": []
   },
   "outputs": [
    {
     "data": {
      "image/png": "[encoded data removed]",
      "text/plain": [
       "<Figure size 1080x288 with 2 Axes>"
      ]
     },
     "metadata": {
      "needs_background": "light"
     },
     "output_type": "display_data"
    }
   ],
   "source": [
    "fig,ax=plt.subplots(1,2,figsize=(15,4))\n",
    "ax[0].hist(oldPs[:,2]-absCOM[:,2],label='before calibration',bins=np.arange(-0.2,0.35,0.05),alpha=0.5)\n",
    "ax[0].hist(newPs[:,2]-absCOM[:,2],label='after calibration',bins=np.arange(-0.2,0.35,0.05),alpha=0.5)\n",
    "ax[0].legend(loc='upper right', fontsize=15)\n",
    "ax[0].set_xlabel(r'$\\Omega$ difference $(^\\circ)$', fontsize=20)\n",
    "ax[1].scatter(oldPs[:,0]-absCOM[:,0],oldPs[:,1]-absCOM[:,1],label='before calibration')\n",
    "ax[1].scatter(newPs[:,0]-absCOM[:,0],newPs[:,1]-absCOM[:,1],label='after calibration',alpha=0.5)\n",
    "ax[1].set_xlabel('horizontal difference (pixels)', fontsize=20)\n",
    "ax[1].set_ylabel('vertical difference (pixels)', fontsize=20)\n",
    "ax[1].legend(loc='upper right', fontsize=15)\n",
    "ax[0].tick_params(axis='both', which='major', labelsize=20)\n",
    "ax[1].tick_params(axis='both', which='major', labelsize=20)\n",
    "plt.savefig('calibration.png',dpi=100,bbox_inches='tight')\n",
    "plt.show()"
   ]
  },
  {
   "cell_type": "markdown",
   "metadata": {},
   "source": [
    "# Check the position of simulated Bragg peaks after calibration: Image"
   ]
  },
  {
   "cell_type": "code",
   "execution_count": 24,
   "metadata": {},
   "outputs": [
    {
     "name": "stdout",
     "output_type": "stream",
     "text": [
      "{'J': 1180.2440923474867, 'K': 2022.7619911749573, 'L': 7.0558956382061915, 'tilt': array([[ 5.35273770e-03,  7.61463259e-04,  9.99985384e-01],\n",
      "       [ 9.99980156e-01, -3.32628765e-03, -5.35017683e-03],\n",
      "       [ 3.32216507e-03,  9.99994178e-01, -7.79252894e-04]]), 'x': -0.331017030558736, 'y': 0.23606782074559335, 'distortion': array([[ 1.00791055e+00, -5.48537993e-04,  3.54198905e-04],\n",
      "       [ 1.10120828e-03,  1.00749117e+00,  6.50794125e-04],\n",
      "       [-6.65259832e-04, -6.26602199e-04,  1.00860901e+00]])}\n"
     ]
    }
   ],
   "source": [
    "x= res['x']\n",
    "\n",
    "pars={}\n",
    "pars['J']=x[0]+1182.19\n",
    "pars['K']=x[1]+2026.27\n",
    "pars['L']=x[2]*10**(-3)+7.14503\n",
    "pars['tilt']=Rot.EulerZXZ2Mat((x[3:6]+np.array([89.1588,87.5647,0.278594]))/180.0*np.pi)\n",
    "pars['x']=x[6]*10**(-3)-0.345937\n",
    "pars['y']=x[7]*10**(-3)+0.238698\n",
    "pars['distortion']=x[8:17].reshape((3,3))*10**(-3)+np.eye(3)\n",
    "DetDefault=Gsim.Detector(psizeJ=0.001454, psizeK=0.001454)\n",
    "DetDefault.Reset()\n",
    "DetDefault.Move(pars['J'],pars['K'],np.array([pars['L'],0,0]),pars['tilt'])\n",
    "pos=np.array([pars['x'], pars['y'], 0])\n",
    "\n",
    "Ps_new,Gs_new,Info_new=Gsim.GetProjectedVertex(DetDefault,crystal_str,\n",
    "                                                        pars['distortion'].dot(o_mat),\n",
    "                                                        etalimit,pos,getPeaksInfo=True,\n",
    "                                                        omegaL=omegaL,omegaU=omegaU,energy=energy)\n",
    "print(pars)"
   ]
  },
  {
   "cell_type": "code",
   "execution_count": 25,
   "metadata": {
    "collapsed": false,
    "jupyter": {
     "outputs_hidden": false
    }
   },
   "outputs": [
    {
     "data": {
      "image/png": "[encoded data removed]",
      "text/plain": [
       "<Figure size 432x288 with 1 Axes>"
      ]
     },
     "metadata": {
      "needs_background": "light"
     },
     "output_type": "display_data"
    }
   ],
   "source": [
    "# %matplotlib notebook\n",
    "\n",
    "# ii is the image ID\n",
    "ii=86\n",
    "\n",
    "f,axis=plt.subplots()\n",
    "\n",
    "omegid=int(round((180-Ps_new[ii,2])*20))\n",
    "if omegid<0:\n",
    "    omegid+=3600\n",
    "if omegid>=3600:\n",
    "    omegid-=3600\n",
    "I=plt.imread(raw_data+'{0:06d}.tif'.format(omegid))\n",
    "\n",
    "\n",
    "axis.imshow(I,vmax=40)\n",
    "axis.scatter(2047-Ps_new[ii,0],Ps_new[ii,1],c='r')\n",
    "plt.show()"
   ]
  },
  {
   "cell_type": "code",
   "execution_count": null,
   "metadata": {},
   "outputs": [],
   "source": []
  }
 ],
 "metadata": {
  "kernelspec": {
   "display_name": "Python 3 (ipykernel)",
   "language": "python",
   "name": "python3"
  },
  "language_info": {
   "codemirror_mode": {
    "name": "ipython",
    "version": 3
   },
   "file_extension": ".py",
   "mimetype": "text/x-python",
   "name": "python",
   "nbconvert_exporter": "python",
   "pygments_lexer": "ipython3",
   "version": "3.9.7"
  }
 },
 "nbformat": 4,
 "nbformat_minor": 4
}
